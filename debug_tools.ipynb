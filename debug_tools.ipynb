{
 "cells": [
  {
   "cell_type": "markdown",
   "metadata": {},
   "source": [
    "# Pokémon Agent Tool Debugging Notebook\n",
    "\n",
    "This notebook helps debug the tool calls used in the Pokémon Agent system. It allows testing each tool individually to verify functionality."
   ]
  },
  {
   "cell_type": "markdown",
   "metadata": {},
   "source": [
    "## Setup\n",
    "\n",
    "First, we need to import the necessary modules."
   ]
  },
  {
   "cell_type": "code",
   "execution_count": 1,
   "metadata": {},
   "outputs": [
    {
     "name": "stderr",
     "output_type": "stream",
     "text": [
      "UserWarning: Using SDL2 binaries from pysdl2-dll 2.30.10\n"
     ]
    }
   ],
   "source": [
    "import os\n",
    "import sys\n",
    "import json\n",
    "import time\n",
    "from IPython.display import Image, display\n",
    "import anthropic\n",
    "\n",
    "# Import our modules\n",
    "from pokemon_emulator import GameEmulator\n",
    "from pokemon_knowledge import KnowledgeBase\n",
    "from pokemon_tools import PokemonTools"
   ]
  },
  {
   "cell_type": "markdown",
   "metadata": {},
   "source": [
    "### Configure the ROM path and API key"
   ]
  },
  {
   "cell_type": "code",
   "execution_count": 2,
   "metadata": {},
   "outputs": [],
   "source": [
    "# Path to your Pokémon ROM file\n",
    "ROM_PATH = \"roms/Pokemon Red Version (Colorization)/Pokemon Red Version (Colorization).gb\"  # Update this\n",
    "\n",
    "# Anthropic API key (optional, only needed if testing with Claude)\n",
    "API_KEY = os.environ.get(\"ANTHROPIC_API_KEY\", \"\")  # Will use env var or empty string"
   ]
  },
  {
   "cell_type": "markdown",
   "metadata": {},
   "source": [
    "### Initialize components"
   ]
  },
  {
   "cell_type": "code",
   "execution_count": 3,
   "metadata": {},
   "outputs": [],
   "source": [
    "# Initialize the emulator (set headless=False to see the game window)\n",
    "emulator = GameEmulator(ROM_PATH, headless=False, speed=1, sound=False)\n",
    "\n",
    "# Initialize the knowledge base with a test file\n",
    "kb = KnowledgeBase(save_path=\"debug_knowledge.json\")\n",
    "\n",
    "# Initialize the tools\n",
    "tools = PokemonTools(emulator, kb)\n",
    "\n",
    "# Start the game (optional)\n",
    "# emulator.start_game(skip_intro=True)"
   ]
  },
  {
   "cell_type": "markdown",
   "metadata": {},
   "source": [
    "## Helper Functions\n",
    "\n",
    "These functions make it easier to test and visualize results."
   ]
  },
  {
   "cell_type": "code",
   "execution_count": 4,
   "metadata": {},
   "outputs": [],
   "source": [
    "def display_current_screen():\n",
    "    \"\"\"Display the current game screen in the notebook.\"\"\"\n",
    "    screen = emulator.get_screen_pil()\n",
    "    display(screen)\n",
    "    \n",
    "def print_game_state():\n",
    "    \"\"\"Print current game state.\"\"\"\n",
    "    state = emulator.get_game_state()\n",
    "    formatted = emulator.format_game_state(state)\n",
    "    print(formatted)\n",
    "    return state\n",
    "\n",
    "def execute_tool_and_show_result(tool_name, params):\n",
    "    \"\"\"Execute a tool and show the before/after state.\"\"\"\n",
    "    print(\"Before:\")\n",
    "    display_current_screen()\n",
    "    print_game_state()\n",
    "    \n",
    "    print(f\"\\nExecuting {tool_name} with params: {params}\")\n",
    "    result = tools.execute_tool(tool_name, params)\n",
    "    print(f\"Result: {result}\")\n",
    "    \n",
    "    print(\"\\nAfter:\")\n",
    "    display_current_screen()\n",
    "    print_game_state()\n",
    "    \n",
    "    return result"
   ]
  },
  {
   "cell_type": "markdown",
   "metadata": {},
   "source": [
    "## Test Tool: press_button"
   ]
  },
  {
   "cell_type": "code",
   "execution_count": 140,
   "metadata": {},
   "outputs": [
    {
     "name": "stdout",
     "output_type": "stream",
     "text": [
      "Before:\n"
     ]
    },
    {
     "data": {
      "image/png": "[encoded data removed]",
      "text/plain": [
       "<PIL.Image.Image image mode=RGBA size=160x144>"
      ]
     },
     "metadata": {},
     "output_type": "display_data"
    },
    {
     "name": "stdout",
     "output_type": "stream",
     "text": [
      "CURRENT GAME STATE:\n",
      "Position: (3, 6) on Map 38\n",
      "Direction: 4, Badges: 0\n",
      "Pokémon Count: 0\n",
      "Text is currently being displayed\n",
      "\n",
      "\n",
      "Executing press_button with params: {'button': 'a', 'hold_frames': 10}\n",
      "Result: Pressed a for 10 frames\n",
      "\n",
      "After:\n"
     ]
    },
    {
     "data": {
      "image/png": "[encoded data removed]",
      "text/plain": [
       "<PIL.Image.Image image mode=RGBA size=160x144>"
      ]
     },
     "metadata": {},
     "output_type": "display_data"
    },
    {
     "name": "stdout",
     "output_type": "stream",
     "text": [
      "CURRENT GAME STATE:\n",
      "Position: (3, 6) on Map 38\n",
      "Direction: 4, Badges: 0\n",
      "Pokémon Count: 0\n",
      "Text is currently being displayed\n",
      "\n",
      "Before:\n"
     ]
    },
    {
     "data": {
      "image/png": "[encoded data removed]",
      "text/plain": [
       "<PIL.Image.Image image mode=RGBA size=160x144>"
      ]
     },
     "metadata": {},
     "output_type": "display_data"
    },
    {
     "name": "stdout",
     "output_type": "stream",
     "text": [
      "CURRENT GAME STATE:\n",
      "Position: (3, 6) on Map 38\n",
      "Direction: 4, Badges: 0\n",
      "Pokémon Count: 0\n",
      "Text is currently being displayed\n",
      "\n",
      "\n",
      "Executing wait_frames with params: {'num_frames': 120}\n",
      "Result: Waited for 120 frames\n",
      "\n",
      "After:\n"
     ]
    },
    {
     "data": {
      "image/png": "[encoded data removed]",
      "text/plain": [
       "<PIL.Image.Image image mode=RGBA size=160x144>"
      ]
     },
     "metadata": {},
     "output_type": "display_data"
    },
    {
     "name": "stdout",
     "output_type": "stream",
     "text": [
      "CURRENT GAME STATE:\n",
      "Position: (3, 6) on Map 38\n",
      "Direction: 4, Badges: 0\n",
      "Pokémon Count: 0\n",
      "Text is currently being displayed\n",
      "\n"
     ]
    },
    {
     "data": {
      "text/plain": [
       "'Waited for 120 frames'"
      ]
     },
     "execution_count": 140,
     "metadata": {},
     "output_type": "execute_result"
    }
   ],
   "source": [
    "# Test pressing the A button\n",
    "execute_tool_and_show_result(\"press_button\", {\"button\": \"a\", \"hold_frames\": 10})\n",
    "# Wait to see result\n",
    "execute_tool_and_show_result(\"wait_frames\", {\"num_frames\": 120})"
   ]
  },
  {
   "cell_type": "code",
   "execution_count": 175,
   "metadata": {},
   "outputs": [
    {
     "name": "stdout",
     "output_type": "stream",
     "text": [
      "Before:\n"
     ]
    },
    {
     "data": {
      "image/png": "[encoded data removed]",
      "text/plain": [
       "<PIL.Image.Image image mode=RGBA size=160x144>"
      ]
     },
     "metadata": {},
     "output_type": "display_data"
    },
    {
     "name": "stdout",
     "output_type": "stream",
     "text": [
      "CURRENT GAME STATE:\n",
      "Position: (4, 2) on Map 38\n",
      "Direction: 4, Badges: 0\n",
      "Pokémon Count: 0\n",
      "Text is currently being displayed\n",
      "\n",
      "\n",
      "Executing press_button with params: {'button': 'up', 'hold_frames': 2}\n",
      "Result: Pressed up for 2 frames\n",
      "\n",
      "After:\n"
     ]
    },
    {
     "data": {
      "image/png": "[encoded data removed]",
      "text/plain": [
       "<PIL.Image.Image image mode=RGBA size=160x144>"
      ]
     },
     "metadata": {},
     "output_type": "display_data"
    },
    {
     "name": "stdout",
     "output_type": "stream",
     "text": [
      "CURRENT GAME STATE:\n",
      "Position: (4, 2) on Map 38\n",
      "Direction: 4, Badges: 0\n",
      "Pokémon Count: 0\n",
      "Text is currently being displayed\n",
      "\n",
      "Before:\n"
     ]
    },
    {
     "data": {
      "image/png": "[encoded data removed]",
      "text/plain": [
       "<PIL.Image.Image image mode=RGBA size=160x144>"
      ]
     },
     "metadata": {},
     "output_type": "display_data"
    },
    {
     "name": "stdout",
     "output_type": "stream",
     "text": [
      "CURRENT GAME STATE:\n",
      "Position: (4, 2) on Map 38\n",
      "Direction: 4, Badges: 0\n",
      "Pokémon Count: 0\n",
      "Text is currently being displayed\n",
      "\n",
      "\n",
      "Executing wait_frames with params: {'num_frames': 60}\n",
      "Result: Waited for 60 frames\n",
      "\n",
      "After:\n"
     ]
    },
    {
     "data": {
      "image/png": "[encoded data removed]",
      "text/plain": [
       "<PIL.Image.Image image mode=RGBA size=160x144>"
      ]
     },
     "metadata": {},
     "output_type": "display_data"
    },
    {
     "name": "stdout",
     "output_type": "stream",
     "text": [
      "CURRENT GAME STATE:\n",
      "Position: (4, 1) on Map 38\n",
      "Direction: 4, Badges: 0\n",
      "Pokémon Count: 0\n",
      "Text is currently being displayed\n",
      "\n"
     ]
    },
    {
     "data": {
      "text/plain": [
       "'Waited for 60 frames'"
      ]
     },
     "execution_count": 175,
     "metadata": {},
     "output_type": "execute_result"
    }
   ],
   "source": [
    "# Test pressing the UP button\n",
    "execute_tool_and_show_result(\"press_button\", {\"button\": \"up\", \"hold_frames\": 2})\n",
    "# Wait to see result\n",
    "execute_tool_and_show_result(\"wait_frames\", {\"num_frames\": 60})"
   ]
  },
  {
   "cell_type": "code",
   "execution_count": 195,
   "metadata": {},
   "outputs": [
    {
     "name": "stdout",
     "output_type": "stream",
     "text": [
      "Before:\n"
     ]
    },
    {
     "data": {
      "image/png": "[encoded data removed]",
      "text/plain": [
       "<PIL.Image.Image image mode=RGBA size=160x144>"
      ]
     },
     "metadata": {},
     "output_type": "display_data"
    },
    {
     "name": "stdout",
     "output_type": "stream",
     "text": [
      "CURRENT GAME STATE:\n",
      "Position: (6, 8) on Map 0\n",
      "Direction: 0, Badges: 0\n",
      "Pokémon Count: 0\n",
      "Text is currently being displayed\n",
      "\n",
      "\n",
      "Executing press_button with params: {'button': 'right', 'hold_frames': 10}\n",
      "Result: Pressed right for 10 frames\n",
      "\n",
      "After:\n"
     ]
    },
    {
     "data": {
      "image/png": "[encoded data removed]",
      "text/plain": [
       "<PIL.Image.Image image mode=RGBA size=160x144>"
      ]
     },
     "metadata": {},
     "output_type": "display_data"
    },
    {
     "name": "stdout",
     "output_type": "stream",
     "text": [
      "CURRENT GAME STATE:\n",
      "Position: (6, 8) on Map 0\n",
      "Direction: 0, Badges: 0\n",
      "Pokémon Count: 0\n",
      "Text is currently being displayed\n",
      "\n",
      "Before:\n"
     ]
    },
    {
     "data": {
      "image/png": "[encoded data removed]",
      "text/plain": [
       "<PIL.Image.Image image mode=RGBA size=160x144>"
      ]
     },
     "metadata": {},
     "output_type": "display_data"
    },
    {
     "name": "stdout",
     "output_type": "stream",
     "text": [
      "CURRENT GAME STATE:\n",
      "Position: (6, 8) on Map 0\n",
      "Direction: 0, Badges: 0\n",
      "Pokémon Count: 0\n",
      "Text is currently being displayed\n",
      "\n",
      "\n",
      "Executing wait_frames with params: {'num_frames': 60}\n",
      "Result: Waited for 60 frames\n",
      "\n",
      "After:\n"
     ]
    },
    {
     "data": {
      "image/png": "[encoded data removed]",
      "text/plain": [
       "<PIL.Image.Image image mode=RGBA size=160x144>"
      ]
     },
     "metadata": {},
     "output_type": "display_data"
    },
    {
     "name": "stdout",
     "output_type": "stream",
     "text": [
      "CURRENT GAME STATE:\n",
      "Position: (7, 8) on Map 0\n",
      "Direction: 0, Badges: 0\n",
      "Pokémon Count: 0\n",
      "Text is currently being displayed\n",
      "\n"
     ]
    },
    {
     "data": {
      "text/plain": [
       "'Waited for 60 frames'"
      ]
     },
     "execution_count": 195,
     "metadata": {},
     "output_type": "execute_result"
    }
   ],
   "source": [
    "# Test pressing the RIGHT button\n",
    "execute_tool_and_show_result(\"press_button\", {\"button\": \"right\", \"hold_frames\": 10})\n",
    "# Wait to see result\n",
    "execute_tool_and_show_result(\"wait_frames\", {\"num_frames\": 60})"
   ]
  },
  {
   "cell_type": "code",
   "execution_count": 196,
   "metadata": {},
   "outputs": [
    {
     "name": "stdout",
     "output_type": "stream",
     "text": [
      "Before:\n"
     ]
    },
    {
     "data": {
      "image/png": "[encoded data removed]",
      "text/plain": [
       "<PIL.Image.Image image mode=RGBA size=160x144>"
      ]
     },
     "metadata": {},
     "output_type": "display_data"
    },
    {
     "name": "stdout",
     "output_type": "stream",
     "text": [
      "CURRENT GAME STATE:\n",
      "Position: (7, 8) on Map 0\n",
      "Direction: 0, Badges: 0\n",
      "Pokémon Count: 0\n",
      "Text is currently being displayed\n",
      "\n",
      "\n",
      "Executing press_button with params: {'button': 'left', 'hold_frames': 10}\n",
      "Result: Pressed left for 10 frames\n",
      "\n",
      "After:\n"
     ]
    },
    {
     "data": {
      "image/png": "[encoded data removed]",
      "text/plain": [
       "<PIL.Image.Image image mode=RGBA size=160x144>"
      ]
     },
     "metadata": {},
     "output_type": "display_data"
    },
    {
     "name": "stdout",
     "output_type": "stream",
     "text": [
      "CURRENT GAME STATE:\n",
      "Position: (7, 8) on Map 0\n",
      "Direction: 0, Badges: 0\n",
      "Pokémon Count: 0\n",
      "Text is currently being displayed\n",
      "\n",
      "Before:\n"
     ]
    },
    {
     "data": {
      "image/png": "[encoded data removed]",
      "text/plain": [
       "<PIL.Image.Image image mode=RGBA size=160x144>"
      ]
     },
     "metadata": {},
     "output_type": "display_data"
    },
    {
     "name": "stdout",
     "output_type": "stream",
     "text": [
      "CURRENT GAME STATE:\n",
      "Position: (7, 8) on Map 0\n",
      "Direction: 0, Badges: 0\n",
      "Pokémon Count: 0\n",
      "Text is currently being displayed\n",
      "\n",
      "\n",
      "Executing wait_frames with params: {'num_frames': 60}\n",
      "Result: Waited for 60 frames\n",
      "\n",
      "After:\n"
     ]
    },
    {
     "data": {
      "image/png": "[encoded data removed]",
      "text/plain": [
       "<PIL.Image.Image image mode=RGBA size=160x144>"
      ]
     },
     "metadata": {},
     "output_type": "display_data"
    },
    {
     "name": "stdout",
     "output_type": "stream",
     "text": [
      "CURRENT GAME STATE:\n",
      "Position: (6, 8) on Map 0\n",
      "Direction: 0, Badges: 0\n",
      "Pokémon Count: 0\n",
      "Text is currently being displayed\n",
      "\n"
     ]
    },
    {
     "data": {
      "text/plain": [
       "'Waited for 60 frames'"
      ]
     },
     "execution_count": 196,
     "metadata": {},
     "output_type": "execute_result"
    }
   ],
   "source": [
    "# Test pressing the RIGHT button\n",
    "execute_tool_and_show_result(\"press_button\", {\"button\": \"left\", \"hold_frames\": 10})\n",
    "# Wait to see result\n",
    "execute_tool_and_show_result(\"wait_frames\", {\"num_frames\": 60})"
   ]
  },
  {
   "cell_type": "code",
   "execution_count": 197,
   "metadata": {},
   "outputs": [
    {
     "name": "stdout",
     "output_type": "stream",
     "text": [
      "Before:\n"
     ]
    },
    {
     "data": {
      "image/png": "[encoded data removed]",
      "text/plain": [
       "<PIL.Image.Image image mode=RGBA size=160x144>"
      ]
     },
     "metadata": {},
     "output_type": "display_data"
    },
    {
     "name": "stdout",
     "output_type": "stream",
     "text": [
      "CURRENT GAME STATE:\n",
      "Position: (6, 8) on Map 0\n",
      "Direction: 0, Badges: 0\n",
      "Pokémon Count: 0\n",
      "Text is currently being displayed\n",
      "\n",
      "\n",
      "Executing press_button with params: {'button': 'down', 'hold_frames': 10}\n",
      "Result: Pressed down for 10 frames\n",
      "\n",
      "After:\n"
     ]
    },
    {
     "data": {
      "image/png": "[encoded data removed]",
      "text/plain": [
       "<PIL.Image.Image image mode=RGBA size=160x144>"
      ]
     },
     "metadata": {},
     "output_type": "display_data"
    },
    {
     "name": "stdout",
     "output_type": "stream",
     "text": [
      "CURRENT GAME STATE:\n",
      "Position: (6, 8) on Map 0\n",
      "Direction: 0, Badges: 0\n",
      "Pokémon Count: 0\n",
      "Text is currently being displayed\n",
      "\n",
      "Before:\n"
     ]
    },
    {
     "data": {
      "image/png": "[encoded data removed]",
      "text/plain": [
       "<PIL.Image.Image image mode=RGBA size=160x144>"
      ]
     },
     "metadata": {},
     "output_type": "display_data"
    },
    {
     "name": "stdout",
     "output_type": "stream",
     "text": [
      "CURRENT GAME STATE:\n",
      "Position: (6, 8) on Map 0\n",
      "Direction: 0, Badges: 0\n",
      "Pokémon Count: 0\n",
      "Text is currently being displayed\n",
      "\n",
      "\n",
      "Executing wait_frames with params: {'num_frames': 60}\n",
      "Result: Waited for 60 frames\n",
      "\n",
      "After:\n"
     ]
    },
    {
     "data": {
      "image/png": "[encoded data removed]",
      "text/plain": [
       "<PIL.Image.Image image mode=RGBA size=160x144>"
      ]
     },
     "metadata": {},
     "output_type": "display_data"
    },
    {
     "name": "stdout",
     "output_type": "stream",
     "text": [
      "CURRENT GAME STATE:\n",
      "Position: (6, 8) on Map 0\n",
      "Direction: 0, Badges: 0\n",
      "Pokémon Count: 0\n",
      "Text is currently being displayed\n",
      "\n"
     ]
    },
    {
     "data": {
      "text/plain": [
       "'Waited for 60 frames'"
      ]
     },
     "execution_count": 197,
     "metadata": {},
     "output_type": "execute_result"
    }
   ],
   "source": [
    "# Test pressing the DOWN button\n",
    "execute_tool_and_show_result(\"press_button\", {\"button\": \"down\", \"hold_frames\": 10})\n",
    "# Wait to see result\n",
    "execute_tool_and_show_result(\"wait_frames\", {\"num_frames\": 60})"
   ]
  },
  {
   "cell_type": "code",
   "execution_count": null,
   "metadata": {},
   "outputs": [
    {
     "name": "stdout",
     "output_type": "stream",
     "text": [
      "Before:\n"
     ]
    },
    {
     "data": {
      "image/png": "[encoded data removed]",
      "text/plain": [
       "<PIL.Image.Image image mode=RGBA size=160x144>"
      ]
     },
     "metadata": {},
     "output_type": "display_data"
    },
    {
     "name": "stdout",
     "output_type": "stream",
     "text": [
      "CURRENT GAME STATE:\n",
      "Position: (3, 6) on Map 38\n",
      "Direction: 4, Badges: 0\n",
      "Pokémon Count: 0\n",
      "\n",
      "\n",
      "Executing press_button with params: {'button': 'start', 'hold_frames': 20}\n",
      "Result: Pressed start for 20 frames\n",
      "\n",
      "After:\n"
     ]
    },
    {
     "data": {
      "image/png": "[encoded data removed]",
      "text/plain": [
       "<PIL.Image.Image image mode=RGBA size=160x144>"
      ]
     },
     "metadata": {},
     "output_type": "display_data"
    },
    {
     "name": "stdout",
     "output_type": "stream",
     "text": [
      "CURRENT GAME STATE:\n",
      "Position: (3, 6) on Map 38\n",
      "Direction: 4, Badges: 0\n",
      "Pokémon Count: 0\n",
      "\n"
     ]
    },
    {
     "data": {
      "text/plain": [
       "'Pressed start for 20 frames'"
      ]
     },
     "execution_count": 101,
     "metadata": {},
     "output_type": "execute_result"
    }
   ],
   "source": [
    "# Test pressing the start button\n",
    "execute_tool_and_show_result(\"press_button\", {\"button\": \"start\", \"hold_frames\": 20})"
   ]
  },
  {
   "cell_type": "markdown",
   "metadata": {},
   "source": [
    "## Test Tool: wait_frames"
   ]
  },
  {
   "cell_type": "code",
   "execution_count": 113,
   "metadata": {},
   "outputs": [
    {
     "name": "stdout",
     "output_type": "stream",
     "text": [
      "Before:\n"
     ]
    },
    {
     "data": {
      "image/png": "[encoded data removed]",
      "text/plain": [
       "<PIL.Image.Image image mode=RGBA size=160x144>"
      ]
     },
     "metadata": {},
     "output_type": "display_data"
    },
    {
     "name": "stdout",
     "output_type": "stream",
     "text": [
      "CURRENT GAME STATE:\n",
      "Position: (3, 6) on Map 38\n",
      "Direction: 4, Badges: 0\n",
      "Pokémon Count: 0\n",
      "\n",
      "\n",
      "Executing wait_frames with params: {'num_frames': 60}\n",
      "Result: Waited for 60 frames\n",
      "\n",
      "After:\n"
     ]
    },
    {
     "data": {
      "image/png": "[encoded data removed]",
      "text/plain": [
       "<PIL.Image.Image image mode=RGBA size=160x144>"
      ]
     },
     "metadata": {},
     "output_type": "display_data"
    },
    {
     "name": "stdout",
     "output_type": "stream",
     "text": [
      "CURRENT GAME STATE:\n",
      "Position: (3, 6) on Map 38\n",
      "Direction: 4, Badges: 0\n",
      "Pokémon Count: 0\n",
      "\n"
     ]
    },
    {
     "data": {
      "text/plain": [
       "'Waited for 60 frames'"
      ]
     },
     "execution_count": 113,
     "metadata": {},
     "output_type": "execute_result"
    }
   ],
   "source": [
    "# Test waiting for frames\n",
    "execute_tool_and_show_result(\"wait_frames\", {\"num_frames\": 60})"
   ]
  },
  {
   "cell_type": "markdown",
   "metadata": {},
   "source": [
    "## Test Tool: update_knowledge"
   ]
  },
  {
   "cell_type": "code",
   "execution_count": 141,
   "metadata": {},
   "outputs": [
    {
     "name": "stdout",
     "output_type": "stream",
     "text": [
      "Result: Updated knowledge base: game_state.current_location = Pallet Town\n",
      "Stored value: Pallet Town\n"
     ]
    }
   ],
   "source": [
    "# Test updating the knowledge base\n",
    "result = tools.execute_tool(\"update_knowledge\", {\n",
    "    \"section\": \"game_state\", \n",
    "    \"key\": \"current_location\", \n",
    "    \"value\": \"Pallet Town\"\n",
    "})\n",
    "print(f\"Result: {result}\")\n",
    "\n",
    "# Verify the update\n",
    "stored_value = kb.get(\"game_state\", \"current_location\")\n",
    "print(f\"Stored value: {stored_value}\")"
   ]
  },
  {
   "cell_type": "markdown",
   "metadata": {},
   "source": [
    "## Test Tool: get_game_info"
   ]
  },
  {
   "cell_type": "code",
   "execution_count": 143,
   "metadata": {},
   "outputs": [
    {
     "name": "stdout",
     "output_type": "stream",
     "text": [
      "Result: Player position: (3, 6)\n"
     ]
    }
   ],
   "source": [
    "# Test getting player position\n",
    "result = tools.execute_tool(\"get_game_info\", {\"info_type\": \"player_position\"})\n",
    "print(f\"Result: {result}\")"
   ]
  },
  {
   "cell_type": "code",
   "execution_count": 144,
   "metadata": {},
   "outputs": [
    {
     "name": "stdout",
     "output_type": "stream",
     "text": [
      "Result: In battle: False, Text active: True\n"
     ]
    }
   ],
   "source": [
    "# Test getting battle status\n",
    "result = tools.execute_tool(\"get_game_info\", {\"info_type\": \"battle_status\"})\n",
    "print(f\"Result: {result}\")"
   ]
  },
  {
   "cell_type": "markdown",
   "metadata": {},
   "source": [
    "## Test Action Sequence\n",
    "\n",
    "Test a sequence of actions to simulate what Claude might do."
   ]
  },
  {
   "cell_type": "code",
   "execution_count": 146,
   "metadata": {},
   "outputs": [],
   "source": [
    "def run_action_sequence(actions):\n",
    "    \"\"\"Run a sequence of actions and show results.\"\"\"\n",
    "    print(\"Initial state:\")\n",
    "    display_current_screen()\n",
    "    print_game_state()\n",
    "    \n",
    "    for i, (tool_name, params) in enumerate(actions, 1):\n",
    "        print(f\"\\nStep {i}: Executing {tool_name} with params: {params}\")\n",
    "        result = tools.execute_tool(tool_name, params)\n",
    "        print(f\"Result: {result}\")\n",
    "        display_current_screen()\n",
    "    \n",
    "    print(\"\\nFinal state:\")\n",
    "    print_game_state()"
   ]
  },
  {
   "cell_type": "code",
   "execution_count": 152,
   "metadata": {},
   "outputs": [
    {
     "name": "stdout",
     "output_type": "stream",
     "text": [
      "Initial state:\n"
     ]
    },
    {
     "data": {
      "image/png": "[encoded data removed]",
      "text/plain": [
       "<PIL.Image.Image image mode=RGBA size=160x144>"
      ]
     },
     "metadata": {},
     "output_type": "display_data"
    },
    {
     "name": "stdout",
     "output_type": "stream",
     "text": [
      "CURRENT GAME STATE:\n",
      "Position: (3, 7) on Map 38\n",
      "Direction: 4, Badges: 0\n",
      "Pokémon Count: 0\n",
      "Text is currently being displayed\n",
      "\n",
      "\n",
      "Step 1: Executing press_button with params: {'button': 'a', 'hold_frames': 10}\n",
      "Result: Pressed a for 10 frames\n"
     ]
    },
    {
     "data": {
      "image/png": "[encoded data removed]",
      "text/plain": [
       "<PIL.Image.Image image mode=RGBA size=160x144>"
      ]
     },
     "metadata": {},
     "output_type": "display_data"
    },
    {
     "name": "stdout",
     "output_type": "stream",
     "text": [
      "\n",
      "Step 2: Executing wait_frames with params: {'num_frames': 30}\n",
      "Result: Waited for 30 frames\n"
     ]
    },
    {
     "data": {
      "image/png": "[encoded data removed]",
      "text/plain": [
       "<PIL.Image.Image image mode=RGBA size=160x144>"
      ]
     },
     "metadata": {},
     "output_type": "display_data"
    },
    {
     "name": "stdout",
     "output_type": "stream",
     "text": [
      "\n",
      "Step 3: Executing press_button with params: {'button': 'a', 'hold_frames': 10}\n",
      "Result: Pressed a for 10 frames\n"
     ]
    },
    {
     "data": {
      "image/png": "[encoded data removed]",
      "text/plain": [
       "<PIL.Image.Image image mode=RGBA size=160x144>"
      ]
     },
     "metadata": {},
     "output_type": "display_data"
    },
    {
     "name": "stdout",
     "output_type": "stream",
     "text": [
      "\n",
      "Step 4: Executing press_button with params: {'button': 'down', 'hold_frames': 15}\n",
      "Result: Pressed down for 15 frames\n"
     ]
    },
    {
     "data": {
      "image/png": "[encoded data removed]",
      "text/plain": [
       "<PIL.Image.Image image mode=RGBA size=160x144>"
      ]
     },
     "metadata": {},
     "output_type": "display_data"
    },
    {
     "name": "stdout",
     "output_type": "stream",
     "text": [
      "\n",
      "Step 5: Executing update_knowledge with params: {'section': 'player_progress', 'key': 'talked_to_npc', 'value': 'true'}\n",
      "Result: Updated knowledge base: player_progress.talked_to_npc = true\n"
     ]
    },
    {
     "data": {
      "image/png": "[encoded data removed]",
      "text/plain": [
       "<PIL.Image.Image image mode=RGBA size=160x144>"
      ]
     },
     "metadata": {},
     "output_type": "display_data"
    },
    {
     "name": "stdout",
     "output_type": "stream",
     "text": [
      "\n",
      "Final state:\n",
      "CURRENT GAME STATE:\n",
      "Position: (3, 7) on Map 38\n",
      "Direction: 4, Badges: 0\n",
      "Pokémon Count: 0\n",
      "Text is currently being displayed\n",
      "\n"
     ]
    }
   ],
   "source": [
    "# Example sequence to navigate and interact\n",
    "actions = [\n",
    "    (\"press_button\", {\"button\": \"a\", \"hold_frames\": 10}),  # Talk/Interact\n",
    "    (\"wait_frames\", {\"num_frames\": 30}),                     # Wait for text\n",
    "    (\"press_button\", {\"button\": \"a\", \"hold_frames\": 10}),  # Advance text\n",
    "    (\"press_button\", {\"button\": \"down\", \"hold_frames\": 15}), # Move down\n",
    "    (\"update_knowledge\", {\"section\": \"player_progress\", \"key\": \"talked_to_npc\", \"value\": \"true\"})\n",
    "]\n",
    "\n",
    "run_action_sequence(actions)"
   ]
  },
  {
   "cell_type": "markdown",
   "metadata": {},
   "source": [
    "## Test Tool Definitions (for Claude API)\n",
    "\n",
    "Let's inspect the tool definitions that would be sent to Claude."
   ]
  },
  {
   "cell_type": "code",
   "execution_count": 198,
   "metadata": {},
   "outputs": [
    {
     "name": "stdout",
     "output_type": "stream",
     "text": [
      "[\n",
      "  {\n",
      "    \"name\": \"press_button\",\n",
      "    \"description\": \"Press a button on the Game Boy\",\n",
      "    \"input_schema\": {\n",
      "      \"type\": \"object\",\n",
      "      \"properties\": {\n",
      "        \"button\": {\n",
      "          \"type\": \"string\",\n",
      "          \"enum\": [\n",
      "            \"up\",\n",
      "            \"down\",\n",
      "            \"left\",\n",
      "            \"right\",\n",
      "            \"a\",\n",
      "            \"b\",\n",
      "            \"start\",\n",
      "            \"select\"\n",
      "          ],\n",
      "          \"description\": \"The button to press\"\n",
      "        },\n",
      "        \"hold_frames\": {\n",
      "          \"type\": \"integer\",\n",
      "          \"description\": \"Number of frames to hold the button\",\n",
      "          \"default\": 10\n",
      "        }\n",
      "      },\n",
      "      \"required\": [\n",
      "        \"button\"\n",
      "      ]\n",
      "    }\n",
      "  },\n",
      "  {\n",
      "    \"name\": \"wait_frames\",\n",
      "    \"description\": \"Wait for a specified number of frames without taking any action\",\n",
      "    \"input_schema\": {\n",
      "      \"type\": \"object\",\n",
      "      \"properties\": {\n",
      "        \"num_frames\": {\n",
      "          \"type\": \"integer\",\n",
      "          \"description\": \"Number of frames to wait\",\n",
      "          \"default\": 30\n",
      "        }\n",
      "      },\n",
      "      \"required\": []\n",
      "    }\n",
      "  },\n",
      "  {\n",
      "    \"name\": \"update_knowledge\",\n",
      "    \"description\": \"Update the knowledge base with new information\",\n",
      "    \"input_schema\": {\n",
      "      \"type\": \"object\",\n",
      "      \"properties\": {\n",
      "        \"section\": {\n",
      "          \"type\": \"string\",\n",
      "          \"enum\": [\n",
      "            \"game_state\",\n",
      "            \"player_progress\",\n",
      "            \"strategies\",\n",
      "            \"map_data\"\n",
      "          ],\n",
      "          \"description\": \"Section to update\"\n",
      "        },\n",
      "        \"key\": {\n",
      "          \"type\": \"string\",\n",
      "          \"description\": \"Key within the section\"\n",
      "        },\n",
      "        \"value\": {\n",
      "          \"type\": \"string\",\n",
      "          \"description\": \"Value to store\"\n",
      "        }\n",
      "      },\n",
      "      \"required\": [\n",
      "        \"section\",\n",
      "        \"key\",\n",
      "        \"value\"\n",
      "      ]\n",
      "    }\n",
      "  },\n",
      "  {\n",
      "    \"name\": \"get_game_info\",\n",
      "    \"description\": \"Get specific information about the game state\",\n",
      "    \"input_schema\": {\n",
      "      \"type\": \"object\",\n",
      "      \"properties\": {\n",
      "        \"info_type\": {\n",
      "          \"type\": \"string\",\n",
      "          \"enum\": [\n",
      "            \"player_position\",\n",
      "            \"map_id\",\n",
      "            \"pokemon_status\",\n",
      "            \"battle_status\"\n",
      "          ],\n",
      "          \"description\": \"Type of information to retrieve\"\n",
      "        }\n",
      "      },\n",
      "      \"required\": [\n",
      "        \"info_type\"\n",
      "      ]\n",
      "    }\n",
      "  }\n",
      "]\n"
     ]
    }
   ],
   "source": [
    "tool_definitions = tools.define_tools()\n",
    "print(json.dumps(tool_definitions, indent=2))"
   ]
  },
  {
   "cell_type": "markdown",
   "metadata": {},
   "source": [
    "## Test with Claude API (Optional)\n",
    "\n",
    "This section tests sending tool definitions to Claude and processing responses."
   ]
  },
  {
   "cell_type": "code",
   "execution_count": 199,
   "metadata": {},
   "outputs": [],
   "source": [
    "def call_claude_with_tool(api_key, game_state, screen_base64, tools_list):\n",
    "    \"\"\"Call Claude API with tools and game state.\"\"\"\n",
    "    if not api_key:\n",
    "        print(\"No API key provided. Skipping Claude API call.\")\n",
    "        return None\n",
    "        \n",
    "    client = anthropic.Anthropic(api_key=api_key)\n",
    "    \n",
    "    # Format game state\n",
    "    state_text = emulator.format_game_state(game_state)\n",
    "    \n",
    "    # Build message\n",
    "    message = {\n",
    "        \"role\": \"user\",\n",
    "        \"content\": [\n",
    "            {\n",
    "                \"type\": \"image\",\n",
    "                \"source\": {\n",
    "                    \"type\": \"base64\",\n",
    "                    \"media_type\": \"image/png\",\n",
    "                    \"data\": screen_base64\n",
    "                }\n",
    "            },\n",
    "            {\n",
    "                \"type\": \"text\",\n",
    "                \"text\": f\"\"\"Current game state:\\n{state_text}\\n\\nAnalyze the current situation and decide what action to take. Use one of the available tools.\"\"\"\n",
    "            }\n",
    "        ]\n",
    "    }\n",
    "    \n",
    "    # System prompt\n",
    "    system_prompt = \"\"\"\n",
    "You are an expert Pokémon player. Analyze the game state and use a tool to take the best action.\n",
    "First, think step-by-step about the current situation, then use a tool to execute the appropriate action.\n",
    "Always use a tool - do not just describe what to do.\n",
    "\"\"\"\n",
    "    \n",
    "    # Make API call\n",
    "    try:\n",
    "        response = client.messages.create(\n",
    "            model=\"claude-3-7-sonnet-20250219\",\n",
    "            system=system_prompt,\n",
    "            messages=[message],\n",
    "            max_tokens=2000,\n",
    "            temperature=1.0,\n",
    "            tools=tools_list\n",
    "        )\n",
    "        return response\n",
    "    except Exception as e:\n",
    "        print(f\"Error calling Claude API: {e}\")\n",
    "        return None"
   ]
  },
  {
   "cell_type": "code",
   "execution_count": 200,
   "metadata": {},
   "outputs": [
    {
     "name": "stdout",
     "output_type": "stream",
     "text": [
      "Current game state:\n"
     ]
    },
    {
     "data": {
      "image/png": "[encoded data removed]",
      "text/plain": [
       "<PIL.Image.Image image mode=RGBA size=160x144>"
      ]
     },
     "metadata": {},
     "output_type": "display_data"
    },
    {
     "name": "stdout",
     "output_type": "stream",
     "text": [
      "CURRENT GAME STATE:\n",
      "Position: (6, 8) on Map 0\n",
      "Direction: 0, Badges: 0\n",
      "Pokémon Count: 0\n",
      "Text is currently being displayed\n",
      "\n",
      "\n",
      "Calling Claude API...\n",
      "\n",
      "Claude's response:\n",
      "# Game State Analysis\n",
      "\n",
      "I can see that we're playing Pokémon (appears to be an early-generation game like Red/Blue/Yellow) and the player character is standing in what looks like a town. The player is positioned at coordinates (6, 8) on Map 0, facing direction 0 (likely north/up), and has 0 badges and 0 Pokémon currently.\n",
      "\n",
      "The screen shows:\n",
      "- The player character in what appears to be a small town\n",
      "- A house with a yellow roof in the upper part of the screen\n",
      "- Some buildings visible on the screen edges\n",
      "- A patch of flowers/grass with fencing around it\n",
      "- Text is currently being displayed, though I can't see what it says\n",
      "\n",
      "Since text is currently being displayed, the most appropriate action would be to advance the text by pressing the A button. This will allow us to continue reading any important information or move on with the game.\n",
      "\n",
      "[Using tool: press_button]\n",
      "Parameters: {'button': 'a'}\n",
      "\n",
      "Executing tool...\n",
      "Result: Pressed a for 10 frames\n",
      "\n",
      "Updated state:\n"
     ]
    },
    {
     "data": {
      "image/png": "[encoded data removed]",
      "text/plain": [
       "<PIL.Image.Image image mode=RGBA size=160x144>"
      ]
     },
     "metadata": {},
     "output_type": "display_data"
    },
    {
     "name": "stdout",
     "output_type": "stream",
     "text": [
      "CURRENT GAME STATE:\n",
      "Position: (6, 8) on Map 0\n",
      "Direction: 0, Badges: 0\n",
      "Pokémon Count: 0\n",
      "Text is currently being displayed\n",
      "\n"
     ]
    }
   ],
   "source": [
    "# Get current state\n",
    "game_state = emulator.get_game_state()\n",
    "screen_base64 = emulator.get_screen_base64()\n",
    "\n",
    "# Get tool definitions\n",
    "tool_defs = tools.define_tools()\n",
    "\n",
    "# Call Claude if API key is available\n",
    "if API_KEY:\n",
    "    # Display current screen\n",
    "    print(\"Current game state:\")\n",
    "    display_current_screen()\n",
    "    print_game_state()\n",
    "    \n",
    "    # Call Claude\n",
    "    print(\"\\nCalling Claude API...\")\n",
    "    response = call_claude_with_tool(API_KEY, game_state, screen_base64, tool_defs)\n",
    "    \n",
    "    if response:\n",
    "        # Print Claude's response\n",
    "        print(\"\\nClaude's response:\")\n",
    "        for content in response.content:\n",
    "            if content.type == \"text\":\n",
    "                print(content.text)\n",
    "            elif content.type == \"tool_use\":\n",
    "                print(f\"\\n[Using tool: {content.name}]\")\n",
    "                print(f\"Parameters: {content.input}\")\n",
    "                \n",
    "                # Execute the tool\n",
    "                print(\"\\nExecuting tool...\")\n",
    "                result = tools.execute_tool(content.name, content.input)\n",
    "                print(f\"Result: {result}\")\n",
    "                \n",
    "        # Show updated state\n",
    "        print(\"\\nUpdated state:\")\n",
    "        display_current_screen()\n",
    "        print_game_state()\n",
    "else:\n",
    "    print(\"No API key provided. Skipping Claude API test.\")"
   ]
  },
  {
   "cell_type": "markdown",
   "metadata": {},
   "source": [
    "## Cleanup\n",
    "\n",
    "Make sure to close the emulator when you're done testing."
   ]
  },
  {
   "cell_type": "code",
   "execution_count": null,
   "metadata": {},
   "outputs": [],
   "source": [
    "# Clean up resources\n",
    "emulator.close()\n",
    "print(\"Emulator closed.\")"
   ]
  }
 ],
 "metadata": {
  "kernelspec": {
   "display_name": ".venv",
   "language": "python",
   "name": "python3"
  },
  "language_info": {
   "codemirror_mode": {
    "name": "ipython",
    "version": 3
   },
   "file_extension": ".py",
   "mimetype": "text/x-python",
   "name": "python",
   "nbconvert_exporter": "python",
   "pygments_lexer": "ipython3",
   "version": "3.13.1"
  }
 },
 "nbformat": 4,
 "nbformat_minor": 4
}
